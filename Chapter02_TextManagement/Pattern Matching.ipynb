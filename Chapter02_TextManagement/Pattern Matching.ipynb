{
 "cells": [
  {
   "cell_type": "code",
   "execution_count": null,
   "metadata": {},
   "outputs": [],
   "source": [
    "#* means any text\n",
    "#? means any character\n",
    "#[...] means the contained characters within square brackets\n",
    "#[!...] means everything apart from the characters contained within the square brackets\n",
    "import fnmatch\n",
    "import os\n",
    "import re"
   ]
  },
  {
   "cell_type": "code",
   "execution_count": null,
   "metadata": {},
   "outputs": [],
   "source": [
    "print(fnmatch.fnmatch('hello.txt', '*.txt'))\n",
    "print(fnmatch.fnmatch('hello.zip', '*.txt'))"
   ]
  },
  {
   "cell_type": "code",
   "execution_count": null,
   "metadata": {},
   "outputs": [],
   "source": [
    "def declare(dec1):\n",
    "    if not fnmatch.fnmatch(dec1, '*:*:*'):\n",
    "        return False\n",
    "    t, n, v = dec1.split(':', 2)\n",
    "    globals()[n] = getattrr(__builtins__, t)(v)\n",
    "    return True"
   ]
  },
  {
   "cell_type": "code",
   "execution_count": null,
   "metadata": {},
   "outputs": [],
   "source": [
    "reg = '({})|({})'.format(fnmatch.translate('*.git*'),\n",
    "                         fnmatch.translate('*vs*'))\n",
    "reg\n",
    "[s for s in os.listdir() if re.match(reg, s)]\n",
    "['.git', '.gitignore', '.vscode']"
   ]
  },
  {
   "cell_type": "code",
   "execution_count": null,
   "metadata": {},
   "outputs": [],
   "source": [
    "enders = ['Ashkan Kamyab', 'Kamyab Ashkani']\n",
    "fnmatch.filter(senders, 'Smith*')\n",
    "fnmatch.filter(senders, '*Smith')"
   ]
  }
 ],
 "metadata": {
  "kernelspec": {
   "display_name": "Python 3",
   "language": "python",
   "name": "python3"
  },
  "language_info": {
   "codemirror_mode": {
    "name": "ipython",
    "version": 3
   },
   "file_extension": ".py",
   "mimetype": "text/x-python",
   "name": "python",
   "nbconvert_exporter": "python",
   "pygments_lexer": "ipython3",
   "version": "3.7.3"
  }
 },
 "nbformat": 4,
 "nbformat_minor": 2
}
