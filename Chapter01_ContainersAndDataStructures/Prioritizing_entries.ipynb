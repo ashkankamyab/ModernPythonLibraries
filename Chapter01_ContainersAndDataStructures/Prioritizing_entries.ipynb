{
 "cells": [
  {
   "cell_type": "code",
   "execution_count": null,
   "metadata": {},
   "outputs": [],
   "source": [
    "import time\n",
    "import heapq # QUEUE\n",
    "\n",
    "class PriorityQueue:\n",
    "    def __init__(self):\n",
    "        self._q = []\n",
    "\n",
    "    def add(self, value, priority=0):\n",
    "        heapq.heappush(self._q, (priority, time.time(), value))\n",
    "\n",
    "    def pop(self):\n",
    "        return heapq.heappop(self._q)[-1]"
   ]
  },
  {
   "cell_type": "code",
   "execution_count": null,
   "metadata": {},
   "outputs": [],
   "source": [
    "def f1(): print('Hello')\n",
    "def f2(): print('World!')"
   ]
  },
  {
   "cell_type": "code",
   "execution_count": null,
   "metadata": {},
   "outputs": [],
   "source": [
    "pq = PriorityQueue()\n",
    "pq.add(f2, priority=1)\n",
    "pq.add(f1, priority=0)"
   ]
  },
  {
   "cell_type": "code",
   "execution_count": null,
   "metadata": {},
   "outputs": [],
   "source": [
    "pq.pop()()"
   ]
  },
  {
   "cell_type": "code",
   "execution_count": null,
   "metadata": {},
   "outputs": [],
   "source": [
    "pq.pop()()"
   ]
  },
  {
   "cell_type": "code",
   "execution_count": null,
   "metadata": {},
   "outputs": [],
   "source": [
    "scores = [(123, 'Alessandro'),\n",
    "          (143, 'Chris'),\n",
    "          (192, 'Mark')]\n",
    "print((10, 'B') > (10, 'A'))\n",
    "print((11, 'A') > (10, 'B'))"
   ]
  },
  {
   "cell_type": "code",
   "execution_count": null,
   "metadata": {},
   "outputs": [],
   "source": [
    "scores = sorted(scores)\n",
    "scores[-1]"
   ]
  },
  {
   "cell_type": "code",
   "execution_count": null,
   "metadata": {},
   "outputs": [],
   "source": [
    "scores.append((137, 'Rick'))\n",
    "scores[-1]"
   ]
  },
  {
   "cell_type": "code",
   "execution_count": null,
   "metadata": {},
   "outputs": [],
   "source": [
    "scores = sorted(scores)\n",
    "scores[-1]"
   ]
  },
  {
   "cell_type": "code",
   "execution_count": null,
   "metadata": {},
   "outputs": [],
   "source": [
    "l = []"
   ]
  },
  {
   "cell_type": "code",
   "execution_count": null,
   "metadata": {},
   "outputs": [],
   "source": [
    "heapq.heappush(l, (192, 'Mark'))\n",
    "heapq.heappush(l, (123, 'Alessandro'))\n",
    "heapq.heappush(l, (143, 'Chris'))\n",
    "heapq.heappush(l, (138, 'Rick'))\n",
    "l[0]"
   ]
  },
  {
   "cell_type": "code",
   "execution_count": null,
   "metadata": {},
   "outputs": [],
   "source": [
    "heapq.heappush(l, (-192, 'Mark'))\n",
    "heapq.heappush(l, (-123, 'Alessandro'))\n",
    "heapq.heappush(l, (-143, 'Chris'))\n",
    "heapq.heappush(l, (-138, 'Rick'))"
   ]
  },
  {
   "cell_type": "code",
   "execution_count": null,
   "metadata": {},
   "outputs": [],
   "source": [
    "l[0]"
   ]
  },
  {
   "cell_type": "code",
   "execution_count": null,
   "metadata": {},
   "outputs": [],
   "source": []
  }
 ],
 "metadata": {
  "kernelspec": {
   "display_name": "Python 3",
   "language": "python",
   "name": "python3"
  },
  "language_info": {
   "codemirror_mode": {
    "name": "ipython",
    "version": 3
   },
   "file_extension": ".py",
   "mimetype": "text/x-python",
   "name": "python",
   "nbconvert_exporter": "python",
   "pygments_lexer": "ipython3",
   "version": "3.7.3"
  }
 },
 "nbformat": 4,
 "nbformat_minor": 2
}
