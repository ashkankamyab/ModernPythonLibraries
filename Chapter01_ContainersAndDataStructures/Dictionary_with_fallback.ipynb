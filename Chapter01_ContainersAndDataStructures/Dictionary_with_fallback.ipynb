{
 "cells": [
  {
   "cell_type": "code",
   "execution_count": null,
   "metadata": {},
   "outputs": [],
   "source": [
    "from collections import ChainMap, defaultdict\n",
    "\n",
    "baseline = {'music': 'bach', 'art': 'rembrandt'}\n",
    "adjustments = {'art': 'van gogh', 'opera': 'carmen'}\n",
    "#list(ChainMap(baseline, adjustments))\n",
    "ChainMap(baseline, adjustments)['art']"
   ]
  },
  {
   "cell_type": "code",
   "execution_count": null,
   "metadata": {},
   "outputs": [],
   "source": [
    "combined = baseline.copy()\n",
    "combined.update(adjustments)\n",
    "list(combined)\n",
    "combined['art']"
   ]
  },
  {
   "cell_type": "code",
   "execution_count": null,
   "metadata": {},
   "outputs": [],
   "source": [
    "dic1 = { 'a' : 1, 'b' : 2 }\n",
    "dic2 = { 'b' : 3, 'c' : 4 }\n",
    "chain = ChainMap(dic1, dic2)\n",
    "chain.maps[-1]['b']"
   ]
  },
  {
   "cell_type": "code",
   "execution_count": null,
   "metadata": {},
   "outputs": [],
   "source": [
    "citizens = dict(torino=['Alessandro'], amsterdam=['Bert'], raleigh=['Joseph'])\n",
    "changes = dict()\n",
    "editablecits = ChainMap(citizens, changes) \n",
    "editablecits\n",
    "editablecits['torino'].append('Simone') \n",
    "print(editablecits['torino'])\n",
    "print(changes)\n",
    "print(citizens)"
   ]
  },
  {
   "cell_type": "code",
   "execution_count": null,
   "metadata": {},
   "outputs": [],
   "source": []
  }
 ],
 "metadata": {
  "kernelspec": {
   "display_name": "Python 3",
   "language": "python",
   "name": "python3"
  },
  "language_info": {
   "codemirror_mode": {
    "name": "ipython",
    "version": 3
   },
   "file_extension": ".py",
   "mimetype": "text/x-python",
   "name": "python",
   "nbconvert_exporter": "python",
   "pygments_lexer": "ipython3",
   "version": "3.7.3"
  }
 },
 "nbformat": 4,
 "nbformat_minor": 2
}
